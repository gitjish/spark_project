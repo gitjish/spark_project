{
 "cells": [
  {
   "cell_type": "code",
   "execution_count": 2,
   "metadata": {},
   "outputs": [],
   "source": [
    "from pyspark.sql import SparkSession\n",
    "spark = SparkSession.builder.master(\"local[*]\").appName(\"Test SQL app\").getOrCreate()\n",
    "\n"
   ]
  },
  {
   "cell_type": "code",
   "execution_count": 3,
   "metadata": {},
   "outputs": [],
   "source": [
    "df=spark.read.format(\"jdbc\").options(driver=\"com.mysql.cj.jdbc.Driver\",\\\n",
    "                                     user=\"root\",\\\n",
    "                                     password=\"password\",\\\n",
    "                                     url=\"jdbc:mysql://localhost:3306/classicmodels\",\\\n",
    "                                     dbtable=\"classicmodels.orders\").load()\n",
    "\n"
   ]
  },
  {
   "cell_type": "code",
   "execution_count": 4,
   "metadata": {},
   "outputs": [
    {
     "name": "stdout",
     "output_type": "stream",
     "text": [
      "root\n",
      " |-- orderNumber: integer (nullable = true)\n",
      " |-- orderDate: date (nullable = true)\n",
      " |-- requiredDate: date (nullable = true)\n",
      " |-- shippedDate: date (nullable = true)\n",
      " |-- status: string (nullable = true)\n",
      " |-- comments: string (nullable = true)\n",
      " |-- customerNumber: integer (nullable = true)\n",
      "\n"
     ]
    }
   ],
   "source": [
    "df.printSchema() "
   ]
  },
  {
   "cell_type": "code",
   "execution_count": 6,
   "metadata": {},
   "outputs": [
    {
     "name": "stdout",
     "output_type": "stream",
     "text": [
      "+-----------+----------+------------+-----------+-------+--------------------+--------------+\n",
      "|orderNumber| orderDate|requiredDate|shippedDate| status|            comments|customerNumber|\n",
      "+-----------+----------+------------+-----------+-------+--------------------+--------------+\n",
      "|      10112|2003-03-24|  2003-04-03| 2003-03-29|Shipped|Customer requeste...|           144|\n",
      "|      10320|2004-11-03|  2004-11-13| 2004-11-07|Shipped|                null|           144|\n",
      "|      10326|2004-11-09|  2004-11-16| 2004-11-10|Shipped|                null|           144|\n",
      "|      10334|2004-11-19|  2004-11-28|       null|On Hold|The outstaniding ...|           144|\n",
      "+-----------+----------+------------+-----------+-------+--------------------+--------------+\n",
      "\n"
     ]
    }
   ],
   "source": [
    "#Example 2: Read with custom query:\n",
    "query=\"(select * from orders where customerNumber = 144) as cust\"\n",
    "\n",
    "df=spark.read.format(\"jdbc\").options(driver=\"com.mysql.cj.jdbc.Driver\",\\\n",
    "                                     user=\"root\",\\\n",
    "                                     password=\"password\",\\\n",
    "                                     url=\"jdbc:mysql://localhost:3306/classicmodels\",\\\n",
    "                                     dbtable=query).load()\n",
    "df.show()\n",
    "\n"
   ]
  },
  {
   "cell_type": "code",
   "execution_count": 7,
   "metadata": {},
   "outputs": [
    {
     "name": "stdout",
     "output_type": "stream",
     "text": [
      "+-----------+----------+------------+-----------+-------+--------------------+--------------+\n",
      "|orderNumber| orderDate|requiredDate|shippedDate| status|            comments|customerNumber|\n",
      "+-----------+----------+------------+-----------+-------+--------------------+--------------+\n",
      "|      10101|2003-01-09|  2003-01-18| 2003-01-11|Shipped|Check on availabi...|           128|\n",
      "|      10230|2004-03-15|  2004-03-24| 2004-03-20|Shipped|Customer very con...|           128|\n",
      "|      10300|2003-10-04|  2003-10-13| 2003-10-09|Shipped|                null|           128|\n",
      "|      10323|2004-11-05|  2004-11-12| 2004-11-09|Shipped|                null|           128|\n",
      "|      10112|2003-03-24|  2003-04-03| 2003-03-29|Shipped|Customer requeste...|           144|\n",
      "|      10320|2004-11-03|  2004-11-13| 2004-11-07|Shipped|                null|           144|\n",
      "|      10326|2004-11-09|  2004-11-16| 2004-11-10|Shipped|                null|           144|\n",
      "|      10334|2004-11-19|  2004-11-28|       null|On Hold|The outstaniding ...|           144|\n",
      "+-----------+----------+------------+-----------+-------+--------------------+--------------+\n",
      "\n"
     ]
    }
   ],
   "source": [
    "#Example: 3: Read with custom query:\n",
    "\n",
    "query=\"(select * from orders where customerNumber = 144 or customerNumber = 128) as cust\"\n",
    "\n",
    "df=spark.read.format(\"jdbc\").options(driver=\"com.mysql.cj.jdbc.Driver\",\\\n",
    "                                     user=\"root\",\\\n",
    "                                     password=\"password\",\\\n",
    "                                     url=\"jdbc:mysql://localhost:3306/classicmodels\",\\\n",
    "                                     dbtable=query \\\n",
    "                                    ).load()\n",
    "df.show()"
   ]
  }
 ],
 "metadata": {
  "kernelspec": {
   "display_name": "Python 3",
   "language": "python",
   "name": "python3"
  },
  "language_info": {
   "codemirror_mode": {
    "name": "ipython",
    "version": 3
   },
   "file_extension": ".py",
   "mimetype": "text/x-python",
   "name": "python",
   "nbconvert_exporter": "python",
   "pygments_lexer": "ipython3",
   "version": "3.10.9"
  },
  "orig_nbformat": 4,
  "vscode": {
   "interpreter": {
    "hash": "658e3ab62725c4aea6dbcdb523096b5b30db5215c24d4129e1bee377d318c1ea"
   }
  }
 },
 "nbformat": 4,
 "nbformat_minor": 2
}
