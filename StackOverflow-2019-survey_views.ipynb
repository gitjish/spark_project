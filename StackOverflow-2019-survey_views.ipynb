{
 "cells": [
  {
   "attachments": {},
   "cell_type": "markdown",
   "metadata": {},
   "source": [
    "Challenge Exercise\n",
    "\n",
    "-----Download the CSV dataset of the StackOverflow 2019 Survey:-------\n",
    "\n",
    "Using PySpark SQL, create temporary views, and run SQL queries to get the following results:\n",
    "- Average age by gender.\n",
    "- Top five countries by number of respondents.\n",
    "- The oldest age to write the first line of code or program for United States respondents with a computer science, computer engineering, software engineering, mathematics, or statistics degree.\n"
   ]
  },
  {
   "cell_type": "code",
   "execution_count": 1,
   "metadata": {},
   "outputs": [],
   "source": [
    "import findspark\n",
    "findspark.init()\n",
    "\n",
    "from pyspark.sql import SparkSession\n",
    "from pyspark.sql.functions import*\n",
    "\n",
    "from pyspark.sql.types import StructType, StructField, StringType, IntegerType, BooleanType, DoubleType"
   ]
  },
  {
   "cell_type": "code",
   "execution_count": 8,
   "metadata": {},
   "outputs": [],
   "source": [
    "# 2. Initializing SparkSession\n",
    "\n",
    "spark = SparkSession.builder.master(\"local[*]\").appName(\"SQL 2019 Survey_view\").getOrCreate()"
   ]
  },
  {
   "cell_type": "code",
   "execution_count": 9,
   "metadata": {},
   "outputs": [
    {
     "name": "stdout",
     "output_type": "stream",
     "text": [
      "root\n",
      " |-- Respondent: integer (nullable = true)\n",
      " |-- MainBranch: string (nullable = true)\n",
      " |-- Hobbyist: string (nullable = true)\n",
      " |-- OpenSourcer: string (nullable = true)\n",
      " |-- OpenSource: string (nullable = true)\n",
      " |-- Employment: string (nullable = true)\n",
      " |-- Country: string (nullable = true)\n",
      " |-- Student: string (nullable = true)\n",
      " |-- EdLevel: string (nullable = true)\n",
      " |-- UndergradMajor: string (nullable = true)\n",
      " |-- EduOther: string (nullable = true)\n",
      " |-- OrgSize: string (nullable = true)\n",
      " |-- DevType: string (nullable = true)\n",
      " |-- YearsCode: string (nullable = true)\n",
      " |-- Age1stCode: string (nullable = true)\n",
      " |-- YearsCodePro: string (nullable = true)\n",
      " |-- CareerSat: string (nullable = true)\n",
      " |-- JobSat: string (nullable = true)\n",
      " |-- MgrIdiot: string (nullable = true)\n",
      " |-- MgrMoney: string (nullable = true)\n",
      " |-- MgrWant: string (nullable = true)\n",
      " |-- JobSeek: string (nullable = true)\n",
      " |-- LastHireDate: string (nullable = true)\n",
      " |-- LastInt: string (nullable = true)\n",
      " |-- FizzBuzz: string (nullable = true)\n",
      " |-- JobFactors: string (nullable = true)\n",
      " |-- ResumeUpdate: string (nullable = true)\n",
      " |-- CurrencySymbol: string (nullable = true)\n",
      " |-- CurrencyDesc: string (nullable = true)\n",
      " |-- CompTotal: string (nullable = true)\n",
      " |-- CompFreq: string (nullable = true)\n",
      " |-- ConvertedComp: string (nullable = true)\n",
      " |-- WorkWeekHrs: string (nullable = true)\n",
      " |-- WorkPlan: string (nullable = true)\n",
      " |-- WorkChallenge: string (nullable = true)\n",
      " |-- WorkRemote: string (nullable = true)\n",
      " |-- WorkLoc: string (nullable = true)\n",
      " |-- ImpSyn: string (nullable = true)\n",
      " |-- CodeRev: string (nullable = true)\n",
      " |-- CodeRevHrs: string (nullable = true)\n",
      " |-- UnitTests: string (nullable = true)\n",
      " |-- PurchaseHow: string (nullable = true)\n",
      " |-- PurchaseWhat: string (nullable = true)\n",
      " |-- LanguageWorkedWith: string (nullable = true)\n",
      " |-- LanguageDesireNextYear: string (nullable = true)\n",
      " |-- DatabaseWorkedWith: string (nullable = true)\n",
      " |-- DatabaseDesireNextYear: string (nullable = true)\n",
      " |-- PlatformWorkedWith: string (nullable = true)\n",
      " |-- PlatformDesireNextYear: string (nullable = true)\n",
      " |-- WebFrameWorkedWith: string (nullable = true)\n",
      " |-- WebFrameDesireNextYear: string (nullable = true)\n",
      " |-- MiscTechWorkedWith: string (nullable = true)\n",
      " |-- MiscTechDesireNextYear: string (nullable = true)\n",
      " |-- DevEnviron: string (nullable = true)\n",
      " |-- OpSys: string (nullable = true)\n",
      " |-- Containers: string (nullable = true)\n",
      " |-- BlockchainOrg: string (nullable = true)\n",
      " |-- BlockchainIs: string (nullable = true)\n",
      " |-- BetterLife: string (nullable = true)\n",
      " |-- ITperson: string (nullable = true)\n",
      " |-- OffOn: string (nullable = true)\n",
      " |-- SocialMedia: string (nullable = true)\n",
      " |-- Extraversion: string (nullable = true)\n",
      " |-- ScreenName: string (nullable = true)\n",
      " |-- SOVisit1st: string (nullable = true)\n",
      " |-- SOVisitFreq: string (nullable = true)\n",
      " |-- SOVisitTo: string (nullable = true)\n",
      " |-- SOFindAnswer: string (nullable = true)\n",
      " |-- SOTimeSaved: string (nullable = true)\n",
      " |-- SOHowMuchTime: string (nullable = true)\n",
      " |-- SOAccount: string (nullable = true)\n",
      " |-- SOPartFreq: string (nullable = true)\n",
      " |-- SOJobs: string (nullable = true)\n",
      " |-- EntTeams: string (nullable = true)\n",
      " |-- SOComm: string (nullable = true)\n",
      " |-- WelcomeChange: string (nullable = true)\n",
      " |-- SONewContent: string (nullable = true)\n",
      " |-- Age: string (nullable = true)\n",
      " |-- Gender: string (nullable = true)\n",
      " |-- Trans: string (nullable = true)\n",
      " |-- Sexuality: string (nullable = true)\n",
      " |-- Ethnicity: string (nullable = true)\n",
      " |-- Dependents: string (nullable = true)\n",
      " |-- SurveyLength: string (nullable = true)\n",
      " |-- SurveyEase: string (nullable = true)\n",
      "\n"
     ]
    }
   ],
   "source": [
    "# 3. Read CSV File with Spark DataFrame API\n",
    "\n",
    "df_survey_view = spark.read.load(r\"C:\\Users\\Learner_XZHCG217\\Desktop\\TEK-Dataengineering\\Git\\Spark\\spark_demo\\spark_files\\stack-overflow-developer-survey-2019\\survey_results_public.csv\",\\\n",
    "     format=\"csv\", header = True,inferSchema = True)\n",
    "\n",
    "df_survey_view.printSchema()\n"
   ]
  },
  {
   "cell_type": "code",
   "execution_count": 11,
   "metadata": {},
   "outputs": [],
   "source": [
    "# create temporary view table\n",
    "\n",
    "df_survey_view.createTempView(\"survey_view_2019\")  # \"survey_view_2019\" is the table name\n",
    "\n",
    "# spark.sql(\"SELECT * from gender_survey\").show(10)"
   ]
  },
  {
   "cell_type": "code",
   "execution_count": null,
   "metadata": {},
   "outputs": [],
   "source": [
    "spark.sql(\"SELECT * from survey_view_2019\").show(100)"
   ]
  },
  {
   "cell_type": "code",
   "execution_count": 16,
   "metadata": {},
   "outputs": [
    {
     "name": "stdout",
     "output_type": "stream",
     "text": [
      "+--------------------+------------------+\n",
      "|              Gender|       Average_Age|\n",
      "+--------------------+------------------+\n",
      "|                 Man| 30.42447950143923|\n",
      "|                  NA| 30.35884003741815|\n",
      "|Man;Non-binary, g...|28.915243902439027|\n",
      "|           Woman;Man| 26.23170731707317|\n",
      "|Woman;Man;Non-bin...| 29.78723404255319|\n",
      "|Woman;Non-binary,...|28.210884353741495|\n",
      "|Non-binary, gende...|29.018036072144287|\n",
      "|               Woman|29.495723917672105|\n",
      "+--------------------+------------------+\n",
      "\n"
     ]
    }
   ],
   "source": [
    "# - Average age by gender.\n",
    "\n",
    "# change the data type to integer\n",
    "df_survey_view= df_survey_view.withColumn(\"Age\", df_survey_view.Age.cast(IntegerType()))\n",
    "\n",
    "spark.sql(\"SELECT Gender,AVG(Age) as Average_Age FROM survey_view_2019 GROUP BY Gender\").show(100)"
   ]
  },
  {
   "cell_type": "code",
   "execution_count": 17,
   "metadata": {},
   "outputs": [
    {
     "name": "stdout",
     "output_type": "stream",
     "text": [
      "+--------------+----------------------+\n",
      "|       Country|Respondent_Countrywise|\n",
      "+--------------+----------------------+\n",
      "| United States|                 20949|\n",
      "|         India|                  9061|\n",
      "|       Germany|                  5866|\n",
      "|United Kingdom|                  5737|\n",
      "|        Canada|                  3395|\n",
      "+--------------+----------------------+\n",
      "\n"
     ]
    }
   ],
   "source": [
    "# - Top five countries by number of respondents.\n",
    "\n",
    "spark.sql(\"SELECT  Country, count(*) as Respondent_Countrywise FROM survey_view_2019\\\n",
    "     GROUP BY Country ORDER BY Respondent_Countrywise DESC LIMIT 5\").show()"
   ]
  },
  {
   "cell_type": "code",
   "execution_count": 19,
   "metadata": {},
   "outputs": [
    {
     "name": "stdout",
     "output_type": "stream",
     "text": [
      "+-------------+--------------------+\n",
      "|      Country|          oldest_age|\n",
      "+-------------+--------------------+\n",
      "|United States|Younger than 5 years|\n",
      "+-------------+--------------------+\n",
      "\n"
     ]
    }
   ],
   "source": [
    "# - The oldest age to write the first line of code or program for United States respondents with a computer science, \n",
    "# computer engineering, software engineering, mathematics, or statistics degree.\n",
    "\n",
    "spark.sql(\"SELECT Country, MAX(Age1stCode) as oldest_age FROM survey_view_2019 \\\n",
    "                          WHERE ((Country = 'United States') AND ((UndergradMajor = 'Computer science, computer engineering, or software engineering') \\\n",
    "                            OR (UndergradMajor = 'Mathematics or statistics')) AND (Age IS NOT NULL)) \\\n",
    "                                GROUP BY Country\").show()"
   ]
  }
 ],
 "metadata": {
  "kernelspec": {
   "display_name": "Python 3",
   "language": "python",
   "name": "python3"
  },
  "language_info": {
   "codemirror_mode": {
    "name": "ipython",
    "version": 3
   },
   "file_extension": ".py",
   "mimetype": "text/x-python",
   "name": "python",
   "nbconvert_exporter": "python",
   "pygments_lexer": "ipython3",
   "version": "3.10.9"
  },
  "orig_nbformat": 4,
  "vscode": {
   "interpreter": {
    "hash": "52634da84371cba311ea128a5ea7cdc41ff074b781779e754b270ff9f8153cee"
   }
  }
 },
 "nbformat": 4,
 "nbformat_minor": 2
}
