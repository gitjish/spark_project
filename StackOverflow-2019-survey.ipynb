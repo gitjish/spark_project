{
 "cells": [
  {
   "attachments": {},
   "cell_type": "markdown",
   "metadata": {},
   "source": [
    "Challenge Exercise\n",
    "\n",
    "-----Download the CSV dataset of the StackOverflow 2019 Survey:-------\n",
    "\n",
    "Using Spark SQL, create DataFrames, which filter for the following:\n",
    "- Average age by gender.\n",
    "- Top five countries by number of respondents.\n",
    "- The oldest age to write the first line of code or program for United States respondents with a computer science, computer engineering, software engineering, mathematics, or statistics degree.\n"
   ]
  },
  {
   "cell_type": "code",
   "execution_count": 2,
   "metadata": {},
   "outputs": [],
   "source": [
    "import findspark\n",
    "findspark.init()\n",
    "\n",
    "from pyspark.sql import SparkSession\n",
    "from pyspark.sql.functions import*\n",
    "\n",
    "from pyspark.sql.types import StructType, StructField, StringType, IntegerType, BooleanType, DoubleType"
   ]
  },
  {
   "cell_type": "code",
   "execution_count": null,
   "metadata": {},
   "outputs": [],
   "source": []
  },
  {
   "cell_type": "code",
   "execution_count": 3,
   "metadata": {},
   "outputs": [],
   "source": [
    "# 2. Initializing SparkSession\n",
    "\n",
    "spark = SparkSession.builder.appName('gender_survey').getOrCreate()"
   ]
  },
  {
   "cell_type": "code",
   "execution_count": 4,
   "metadata": {},
   "outputs": [
    {
     "name": "stdout",
     "output_type": "stream",
     "text": [
      "root\n",
      " |-- Respondent: integer (nullable = true)\n",
      " |-- MainBranch: string (nullable = true)\n",
      " |-- Hobbyist: string (nullable = true)\n",
      " |-- OpenSourcer: string (nullable = true)\n",
      " |-- OpenSource: string (nullable = true)\n",
      " |-- Employment: string (nullable = true)\n",
      " |-- Country: string (nullable = true)\n",
      " |-- Student: string (nullable = true)\n",
      " |-- EdLevel: string (nullable = true)\n",
      " |-- UndergradMajor: string (nullable = true)\n",
      " |-- EduOther: string (nullable = true)\n",
      " |-- OrgSize: string (nullable = true)\n",
      " |-- DevType: string (nullable = true)\n",
      " |-- YearsCode: string (nullable = true)\n",
      " |-- Age1stCode: string (nullable = true)\n",
      " |-- YearsCodePro: string (nullable = true)\n",
      " |-- CareerSat: string (nullable = true)\n",
      " |-- JobSat: string (nullable = true)\n",
      " |-- MgrIdiot: string (nullable = true)\n",
      " |-- MgrMoney: string (nullable = true)\n",
      " |-- MgrWant: string (nullable = true)\n",
      " |-- JobSeek: string (nullable = true)\n",
      " |-- LastHireDate: string (nullable = true)\n",
      " |-- LastInt: string (nullable = true)\n",
      " |-- FizzBuzz: string (nullable = true)\n",
      " |-- JobFactors: string (nullable = true)\n",
      " |-- ResumeUpdate: string (nullable = true)\n",
      " |-- CurrencySymbol: string (nullable = true)\n",
      " |-- CurrencyDesc: string (nullable = true)\n",
      " |-- CompTotal: string (nullable = true)\n",
      " |-- CompFreq: string (nullable = true)\n",
      " |-- ConvertedComp: string (nullable = true)\n",
      " |-- WorkWeekHrs: string (nullable = true)\n",
      " |-- WorkPlan: string (nullable = true)\n",
      " |-- WorkChallenge: string (nullable = true)\n",
      " |-- WorkRemote: string (nullable = true)\n",
      " |-- WorkLoc: string (nullable = true)\n",
      " |-- ImpSyn: string (nullable = true)\n",
      " |-- CodeRev: string (nullable = true)\n",
      " |-- CodeRevHrs: string (nullable = true)\n",
      " |-- UnitTests: string (nullable = true)\n",
      " |-- PurchaseHow: string (nullable = true)\n",
      " |-- PurchaseWhat: string (nullable = true)\n",
      " |-- LanguageWorkedWith: string (nullable = true)\n",
      " |-- LanguageDesireNextYear: string (nullable = true)\n",
      " |-- DatabaseWorkedWith: string (nullable = true)\n",
      " |-- DatabaseDesireNextYear: string (nullable = true)\n",
      " |-- PlatformWorkedWith: string (nullable = true)\n",
      " |-- PlatformDesireNextYear: string (nullable = true)\n",
      " |-- WebFrameWorkedWith: string (nullable = true)\n",
      " |-- WebFrameDesireNextYear: string (nullable = true)\n",
      " |-- MiscTechWorkedWith: string (nullable = true)\n",
      " |-- MiscTechDesireNextYear: string (nullable = true)\n",
      " |-- DevEnviron: string (nullable = true)\n",
      " |-- OpSys: string (nullable = true)\n",
      " |-- Containers: string (nullable = true)\n",
      " |-- BlockchainOrg: string (nullable = true)\n",
      " |-- BlockchainIs: string (nullable = true)\n",
      " |-- BetterLife: string (nullable = true)\n",
      " |-- ITperson: string (nullable = true)\n",
      " |-- OffOn: string (nullable = true)\n",
      " |-- SocialMedia: string (nullable = true)\n",
      " |-- Extraversion: string (nullable = true)\n",
      " |-- ScreenName: string (nullable = true)\n",
      " |-- SOVisit1st: string (nullable = true)\n",
      " |-- SOVisitFreq: string (nullable = true)\n",
      " |-- SOVisitTo: string (nullable = true)\n",
      " |-- SOFindAnswer: string (nullable = true)\n",
      " |-- SOTimeSaved: string (nullable = true)\n",
      " |-- SOHowMuchTime: string (nullable = true)\n",
      " |-- SOAccount: string (nullable = true)\n",
      " |-- SOPartFreq: string (nullable = true)\n",
      " |-- SOJobs: string (nullable = true)\n",
      " |-- EntTeams: string (nullable = true)\n",
      " |-- SOComm: string (nullable = true)\n",
      " |-- WelcomeChange: string (nullable = true)\n",
      " |-- SONewContent: string (nullable = true)\n",
      " |-- Age: string (nullable = true)\n",
      " |-- Gender: string (nullable = true)\n",
      " |-- Trans: string (nullable = true)\n",
      " |-- Sexuality: string (nullable = true)\n",
      " |-- Ethnicity: string (nullable = true)\n",
      " |-- Dependents: string (nullable = true)\n",
      " |-- SurveyLength: string (nullable = true)\n",
      " |-- SurveyEase: string (nullable = true)\n",
      "\n"
     ]
    }
   ],
   "source": [
    "# 3. Read CSV File with Spark DataFrame API\n",
    "\n",
    "df_survey_2019 = spark.read.load(r\"C:\\Users\\12242\\Downloads\\stack-overflow-developer-survey-2019\\survey_results_public.csv\",\\\n",
    "     format=\"csv\", header = True,inferSchema = True)\n",
    "\n",
    "df_survey_2019.printSchema()"
   ]
  },
  {
   "cell_type": "code",
   "execution_count": 5,
   "metadata": {},
   "outputs": [],
   "source": [
    "# change the data type to integer\n",
    "\n",
    "df_survey_2019= df_survey_2019.withColumn(\"Age\", df_survey_2019.Age.cast(IntegerType()))"
   ]
  },
  {
   "cell_type": "code",
   "execution_count": 6,
   "metadata": {},
   "outputs": [
    {
     "name": "stdout",
     "output_type": "stream",
     "text": [
      "+--------------------+------------------+\n",
      "|              gender|          avg(age)|\n",
      "+--------------------+------------------+\n",
      "|                 Man|30.424181874074282|\n",
      "|                  NA| 30.35640785781104|\n",
      "|Man;Non-binary, g...|28.908536585365855|\n",
      "|           Woman;Man| 26.23170731707317|\n",
      "|Woman;Man;Non-bin...| 29.78723404255319|\n",
      "|Woman;Non-binary,...|28.210884353741495|\n",
      "|Non-binary, gende...|29.018036072144287|\n",
      "|               Woman| 29.49538679914833|\n",
      "+--------------------+------------------+\n",
      "\n"
     ]
    }
   ],
   "source": [
    "# - Average age by gender.\n",
    "\n",
    "df_survey_2019.select(\"gender\",\"age\").groupBy(\"gender\").avg().show()\n"
   ]
  },
  {
   "cell_type": "code",
   "execution_count": 7,
   "metadata": {},
   "outputs": [
    {
     "name": "stdout",
     "output_type": "stream",
     "text": [
      "+--------------+----------------------+\n",
      "|       Country|Respondent_countrywise|\n",
      "+--------------+----------------------+\n",
      "| United States|                 20949|\n",
      "|         India|                  9061|\n",
      "|       Germany|                  5866|\n",
      "|United Kingdom|                  5737|\n",
      "|        Canada|                  3395|\n",
      "+--------------+----------------------+\n",
      "only showing top 5 rows\n",
      "\n"
     ]
    }
   ],
   "source": [
    "# - Top five countries by number of respondents.\n",
    "df2 = df_survey_2019.groupBy('Country').count().orderBy(desc('count')).show(5)\n",
    "## df2.orderBy(desc('count')).show(5)\n",
    "\n",
    "#df_survey_2019.select(\"Country\", \"Respondent\").groupby(\"Country\").agg(count(\"Respondent\"). alias(\"Respondent_countrywise\")).sort(desc(\"Respondent_countrywise\")).show(5)"
   ]
  },
  {
   "cell_type": "code",
   "execution_count": 9,
   "metadata": {},
   "outputs": [],
   "source": [
    "# - The oldest age to write the first line of code or program for United States respondents with a computer science, \n",
    "# computer engineering, software engineering, mathematics, or statistics degree.\n",
    "\n",
    "# change to integer\n",
    "df_survey_2019 = df_survey_2019.withColumn(\"Age1stCode\", df_survey_2019.Age1stCode.cast(IntegerType()))"
   ]
  },
  {
   "cell_type": "code",
   "execution_count": null,
   "metadata": {},
   "outputs": [],
   "source": [
    "df.select(\"Country\", \"UndergradMajor\", \"Age1stCode\").filter"
   ]
  },
  {
   "cell_type": "code",
   "execution_count": 10,
   "metadata": {},
   "outputs": [
    {
     "name": "stdout",
     "output_type": "stream",
     "text": [
      "+-------------+--------------------+---------------+\n",
      "|      Country|      UndergradMajor|max(Age1stCode)|\n",
      "+-------------+--------------------+---------------+\n",
      "|United States|Computer science,...|             54|\n",
      "|United States|Mathematics or st...|             56|\n",
      "+-------------+--------------------+---------------+\n",
      "\n"
     ]
    }
   ],
   "source": [
    "df_survey_2019.select(\"Country\", \"UndergradMajor\", \"Age1stCode\").filter((df_survey_2019['Country'] == 'United States')\\\n",
    "      & ((df_survey_2019[\"UndergradMajor\"] == \"Computer science, computer engineering, or software engineering\")\\\n",
    "         |(df_survey_2019[\"UndergradMajor\"] == \"Mathematics or statistics\"))) \\\n",
    "    .groupby(\"Country\", \"UndergradMajor\").max(\"Age1stCode\").show()"
   ]
  },
  {
   "attachments": {},
   "cell_type": "markdown",
   "metadata": {},
   "source": [
    "spark.sql(\"SELECT MAX(Age1stCode) as oldest_age FROM `surveys`  \\ WHERE Country = 'United States' AND (UndergradMajor = 'Computer science, computer engineering, or software engineering' OR UndergradMajor = 'Mathematics or statistics') AND Age IS NOT NULL\").show()"
   ]
  }
 ],
 "metadata": {
  "kernelspec": {
   "display_name": "Python 3",
   "language": "python",
   "name": "python3"
  },
  "language_info": {
   "codemirror_mode": {
    "name": "ipython",
    "version": 3
   },
   "file_extension": ".py",
   "mimetype": "text/x-python",
   "name": "python",
   "nbconvert_exporter": "python",
   "pygments_lexer": "ipython3",
   "version": "3.10.9"
  },
  "orig_nbformat": 4,
  "vscode": {
   "interpreter": {
    "hash": "658e3ab62725c4aea6dbcdb523096b5b30db5215c24d4129e1bee377d318c1ea"
   }
  }
 },
 "nbformat": 4,
 "nbformat_minor": 2
}
